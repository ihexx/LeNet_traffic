{
 "cells": [
  {
   "cell_type": "markdown",
   "metadata": {},
   "source": [
    "---\n",
    "## Step 0: Load The Data"
   ]
  },
  {
   "cell_type": "code",
   "execution_count": 1,
   "metadata": {},
   "outputs": [],
   "source": [
    "# Load pickled data\n",
    "import pickle\n",
    "import os\n",
    "import numpy as np\n",
    "\n",
    "training_file = os.path.join(os.getcwd(),'trainingData/train.p')\n",
    "validation_file = os.path.join(os.getcwd(),'trainingData/valid.p')\n",
    "testing_file = os.path.join(os.getcwd(),'trainingData/test.p')\n",
    "\n",
    "with open(training_file, mode='rb') as f:\n",
    "    train = pickle.load(f)\n",
    "with open(validation_file, mode='rb') as f:\n",
    "    valid = pickle.load(f)\n",
    "with open(testing_file, mode='rb') as f:\n",
    "    test = pickle.load(f)\n",
    "    \n",
    "X_train, y_train = np.array(train['features']), np.array(train['labels'])\n",
    "X_valid, y_valid = np.array(valid['features']), np.array(valid['labels'])\n",
    "X_test, y_test = np.array(test['features']), np.array(test['labels'])"
   ]
  },
  {
   "cell_type": "markdown",
   "metadata": {},
   "source": [
    "---\n",
    "\n",
    "## Step 1: Dataset Summary & Exploration\n",
    "\n",
    "The pickled data is a dictionary with 4 key/value pairs:\n",
    "\n",
    "- `'features'` is a 4D array containing raw pixel data of the traffic sign images, (num examples, width, height, channels).\n",
    "- `'labels'` is a 1D array containing the label/class id of the traffic sign. The file `signnames.csv` contains id -> name mappings for each id.\n",
    "- `'sizes'` is a list containing tuples, (width, height) representing the original width and height the image.\n",
    "- `'coords'` is a list containing tuples, (x1, y1, x2, y2) representing coordinates of a bounding box around the sign in the image. **THESE COORDINATES ASSUME THE ORIGINAL IMAGE. THE PICKLED DATA CONTAINS RESIZED VERSIONS (32 by 32) OF THESE IMAGES**\n",
    "\n",
    "Complete the basic data summary below. Use python, numpy and/or pandas methods to calculate the data summary rather than hard coding the results. For example, the [pandas shape method](http://pandas.pydata.org/pandas-docs/stable/generated/pandas.DataFrame.shape.html) might be useful for calculating some of the summary results. "
   ]
  },
  {
   "cell_type": "markdown",
   "metadata": {},
   "source": [
    "### Provide a Basic Summary of the Data Set Using Python, Numpy and/or Pandas"
   ]
  },
  {
   "cell_type": "code",
   "execution_count": 2,
   "metadata": {},
   "outputs": [
    {
     "name": "stdout",
     "output_type": "stream",
     "text": [
      "Number of training examples = 34799\n",
      "Number of Validation examples = 4410\n",
      "Number of testing examples = 12630\n",
      "Image data shape = (34799, 32, 32, 3)\n",
      "Number of classes = 42\n"
     ]
    }
   ],
   "source": [
    "import numpy as np\n",
    "### Replace each question mark with the appropriate value. \n",
    "### Use python, pandas or numpy methods rather than hard coding the results\n",
    "\n",
    "n_train = len(X_train)\n",
    "print(\"Number of training examples =\", n_train)\n",
    "\n",
    "n_validation = len(X_valid)\n",
    "print(\"Number of Validation examples =\", n_validation)\n",
    "\n",
    "n_test = len(X_test)\n",
    "print(\"Number of testing examples =\", n_test)\n",
    "\n",
    "image_shape = np.shape(X_train)\n",
    "print(\"Image data shape =\", image_shape)\n",
    "\n",
    "n_classes = np.ptp(y_train)\n",
    "print(\"Number of classes =\", n_classes)\n",
    "\n"
   ]
  },
  {
   "cell_type": "markdown",
   "metadata": {},
   "source": [
    "### Include an exploratory visualization of the dataset"
   ]
  },
  {
   "cell_type": "markdown",
   "metadata": {},
   "source": [
    "Visualize the German Traffic Signs Dataset using the pickled file(s). This is open ended, suggestions include: plotting traffic sign images, plotting the count of each sign, etc. \n",
    "\n",
    "The [Matplotlib](http://matplotlib.org/) [examples](http://matplotlib.org/examples/index.html) and [gallery](http://matplotlib.org/gallery.html) pages are a great resource for doing visualizations in Python.\n",
    "\n",
    "**NOTE:** It's recommended you start with something simple first. If you wish to do more, come back to it after you've completed the rest of the sections. It can be interesting to look at the distribution of classes in the training, validation and test set. Is the distribution the same? Are there more examples of some classes than others?"
   ]
  },
  {
   "cell_type": "code",
   "execution_count": 3,
   "metadata": {},
   "outputs": [
    {
     "name": "stdout",
     "output_type": "stream",
     "text": [
      "seed:  27700\n",
      "\tClass  12\n"
     ]
    },
    {
     "data": {
      "image/png": "[encoded data removed]",
      "text/plain": [
       "<matplotlib.figure.Figure at 0x7f9c5d14ef98>"
      ]
     },
     "metadata": {},
     "output_type": "display_data"
    },
    {
     "data": {
      "text/plain": [
       "27700"
      ]
     },
     "execution_count": 3,
     "metadata": {},
     "output_type": "execute_result"
    }
   ],
   "source": [
    "### Data exploration visualization code goes here.\n",
    "\n",
    "# Showing Random example and label\n",
    "import matplotlib.pyplot as plt\n",
    "import random\n",
    "# Visualizations will be shown in the notebook.\n",
    "def showRand(index = random.randint(0, n_train)):\n",
    "    %matplotlib inline\n",
    "\n",
    "    print(\"seed: \", index)\n",
    "    image = np.array(X_train)[index]\n",
    "\n",
    "    plt.figure(figsize=(1,1))\n",
    "    plt.imshow(image)\n",
    "    print(\"\\tClass \",y_train[index])\n",
    "    \n",
    "    plt.show()\n",
    "    return index\n",
    "\n",
    "showRand()"
   ]
  },
  {
   "cell_type": "markdown",
   "metadata": {},
   "source": [
    "----\n",
    "\n",
    "## Step 2: Design and Test a Model Architecture\n",
    "\n",
    "Design and implement a deep learning model that learns to recognize traffic signs. Train and test your model on the [German Traffic Sign Dataset](http://benchmark.ini.rub.de/?section=gtsrb&subsection=dataset).\n",
    "\n",
    "The LeNet-5 implementation shown in the [classroom](https://classroom.udacity.com/nanodegrees/nd013/parts/fbf77062-5703-404e-b60c-95b78b2f3f9e/modules/6df7ae49-c61c-4bb2-a23e-6527e69209ec/lessons/601ae704-1035-4287-8b11-e2c2716217ad/concepts/d4aca031-508f-4e0b-b493-e7b706120f81) at the end of the CNN lesson is a solid starting point. You'll have to change the number of classes and possibly the preprocessing, but aside from that it's plug and play! \n",
    "\n",
    "With the LeNet-5 solution from the lecture, you should expect a validation set accuracy of about 0.89. To meet specifications, the validation set accuracy will need to be at least 0.93. It is possible to get an even higher accuracy, but 0.93 is the minimum for a successful project submission. \n",
    "\n",
    "There are various aspects to consider when thinking about this problem:\n",
    "\n",
    "- Neural network architecture (is the network over or underfitting?)\n",
    "- Play around preprocessing techniques (normalization, rgb to grayscale, etc)\n",
    "- Number of examples per label (some have more than others).\n",
    "- Generate fake data.\n",
    "\n",
    "Here is an example of a [published baseline model on this problem](http://yann.lecun.com/exdb/publis/pdf/sermanet-ijcnn-11.pdf). It's not required to be familiar with the approach used in the paper but, it's good practice to try to read papers like these."
   ]
  },
  {
   "cell_type": "markdown",
   "metadata": {},
   "source": [
    "### Pre-process the Data Set (normalization, grayscale, etc.)"
   ]
  },
  {
   "cell_type": "markdown",
   "metadata": {},
   "source": [
    "Minimally, the image data should be normalized so that the data has mean zero and equal variance. For image data, `(pixel - 128)/ 128` is a quick way to approximately normalize the data and can be used in this project. \n",
    "\n",
    "Other pre-processing steps are optional. You can try different techniques to see if it improves performance. \n",
    "\n",
    "Use the code cell (or multiple code cells, if necessary) to implement the first step of your project."
   ]
  },
  {
   "cell_type": "code",
   "execution_count": 4,
   "metadata": {},
   "outputs": [],
   "source": [
    "from sklearn.preprocessing import LabelBinarizer\n",
    "enc = LabelBinarizer()\n",
    "y_train_oneHot = enc.fit_transform(y_train)\n",
    "y_val_oneHot = enc.fit_transform(y_valid)\n",
    "y_test_oneHot = enc.fit_transform(y_test)"
   ]
  },
  {
   "cell_type": "markdown",
   "metadata": {},
   "source": [
    "### Model Architecture"
   ]
  },
  {
   "cell_type": "code",
   "execution_count": 5,
   "metadata": {},
   "outputs": [
    {
     "name": "stderr",
     "output_type": "stream",
     "text": [
      "Using TensorFlow backend.\n"
     ]
    }
   ],
   "source": [
    "import tensorflow as tf\n",
    "from keras.models import Model\n",
    "from keras.layers import Input, Dense, Lambda, BatchNormalization, Softmax\n",
    "import keras\n",
    "import keras.backend as K\n",
    "\n",
    "inputs = Input(shape=(32, 32, 3))\n",
    "\n",
    "prep = Lambda(lambda x: tf.image.rgb_to_grayscale(x))(inputs)\n",
    "prep_whitening = Lambda(lambda x: (x - 128) / 255)(prep)\n",
    "prep_batchNorm = BatchNormalization()(prep)\n",
    "\n",
    "net = keras.layers.Flatten()(prep_batchNorm)\n",
    "net = Dense(43)(net)\n",
    "net = Softmax()(net)\n",
    "\n",
    "LeNet = Model(inputs=inputs, outputs=net)\n",
    "layerProbe = Model(inputs=inputs, outputs=prep_whitening)\n",
    "\n",
    "\n",
    "def mean_pred(y_true, y_pred):\n",
    "    return K.mean(y_pred)\n",
    "\n",
    "\n",
    "LeNet.compile(optimizer='rmsprop',\n",
    "              loss='categorical_crossentropy',\n",
    "              metrics=['accuracy', mean_pred])\n",
    "\n",
    "tensorboard = keras.callbacks.TensorBoard(log_dir='/tmp/LeNet',\n",
    "                 histogram_freq=1, \n",
    "                 write_graph=True, \n",
    "                 write_images=False)\n"
   ]
  },
  {
   "cell_type": "markdown",
   "metadata": {},
   "source": [
    "### Train, Validate and Test the Model"
   ]
  },
  {
   "cell_type": "markdown",
   "metadata": {},
   "source": [
    "A validation set can be used to assess how well the model is performing. A low accuracy on the training and validation\n",
    "sets imply underfitting. A high accuracy on the training set but low accuracy on the validation set implies overfitting."
   ]
  },
  {
   "cell_type": "code",
   "execution_count": 6,
   "metadata": {},
   "outputs": [
    {
     "name": "stdout",
     "output_type": "stream",
     "text": [
      "(34799, 32, 32, 3)\n",
      "Train on 34799 samples, validate on 4410 samples\n",
      "Epoch 1/50\n",
      "34799/34799 [==============================] - 2s 60us/step - loss: 1.9207 - acc: 0.5091 - mean_pred: 0.0233 - val_loss: 1.5014 - val_acc: 0.5971 - val_mean_pred: 0.0233\n",
      "Epoch 2/50\n",
      "34799/34799 [==============================] - 2s 45us/step - loss: 1.0194 - acc: 0.7426 - mean_pred: 0.0233 - val_loss: 1.2243 - val_acc: 0.6621 - val_mean_pred: 0.0233\n",
      "Epoch 3/50\n",
      "34799/34799 [==============================] - 2s 45us/step - loss: 0.7665 - acc: 0.8080 - mean_pred: 0.0233 - val_loss: 1.0244 - val_acc: 0.7308 - val_mean_pred: 0.0233\n",
      "Epoch 4/50\n",
      "34799/34799 [==============================] - 2s 53us/step - loss: 0.6523 - acc: 0.8397 - mean_pred: 0.0233 - val_loss: 0.9688 - val_acc: 0.7644 - val_mean_pred: 0.0233\n",
      "Epoch 5/50\n",
      "34799/34799 [==============================] - 2s 48us/step - loss: 0.5781 - acc: 0.8576 - mean_pred: 0.0233 - val_loss: 0.9240 - val_acc: 0.7692 - val_mean_pred: 0.0233\n",
      "Epoch 6/50\n",
      "34799/34799 [==============================] - 2s 47us/step - loss: 0.5378 - acc: 0.8695 - mean_pred: 0.0233 - val_loss: 1.0197 - val_acc: 0.7519 - val_mean_pred: 0.0233\n",
      "Epoch 7/50\n",
      "34799/34799 [==============================] - 2s 47us/step - loss: 0.5019 - acc: 0.8798 - mean_pred: 0.0233 - val_loss: 1.0283 - val_acc: 0.7914 - val_mean_pred: 0.0233\n",
      "Epoch 8/50\n",
      "34799/34799 [==============================] - 2s 53us/step - loss: 0.4794 - acc: 0.8864 - mean_pred: 0.0233 - val_loss: 1.0329 - val_acc: 0.7791 - val_mean_pred: 0.0233\n",
      "Epoch 9/50\n",
      "34799/34799 [==============================] - 2s 49us/step - loss: 0.4554 - acc: 0.8927 - mean_pred: 0.0233 - val_loss: 0.8914 - val_acc: 0.8041 - val_mean_pred: 0.0233\n",
      "Epoch 10/50\n",
      "34799/34799 [==============================] - 2s 68us/step - loss: 0.4380 - acc: 0.8956 - mean_pred: 0.0233 - val_loss: 1.0167 - val_acc: 0.7800 - val_mean_pred: 0.0233\n",
      "Epoch 11/50\n",
      "34799/34799 [==============================] - 2s 57us/step - loss: 0.4228 - acc: 0.9008 - mean_pred: 0.0233 - val_loss: 0.9258 - val_acc: 0.8018 - val_mean_pred: 0.0233\n",
      "Epoch 12/50\n",
      "34799/34799 [==============================] - 2s 49us/step - loss: 0.4023 - acc: 0.9046 - mean_pred: 0.0233 - val_loss: 0.9267 - val_acc: 0.8125 - val_mean_pred: 0.0233\n",
      "Epoch 13/50\n",
      "34799/34799 [==============================] - 2s 50us/step - loss: 0.3923 - acc: 0.9066 - mean_pred: 0.0233 - val_loss: 0.9147 - val_acc: 0.7925 - val_mean_pred: 0.0233\n",
      "Epoch 14/50\n",
      "34799/34799 [==============================] - 2s 49us/step - loss: 0.3805 - acc: 0.9088 - mean_pred: 0.0233 - val_loss: 0.9099 - val_acc: 0.8048 - val_mean_pred: 0.0233\n",
      "Epoch 15/50\n",
      "34799/34799 [==============================] - 1s 43us/step - loss: 0.3722 - acc: 0.9121 - mean_pred: 0.0233 - val_loss: 0.8860 - val_acc: 0.8302 - val_mean_pred: 0.0233\n",
      "Epoch 16/50\n",
      "34799/34799 [==============================] - 1s 42us/step - loss: 0.3622 - acc: 0.9147 - mean_pred: 0.0233 - val_loss: 0.8428 - val_acc: 0.8272 - val_mean_pred: 0.0233\n",
      "Epoch 17/50\n",
      "34799/34799 [==============================] - 1s 43us/step - loss: 0.3538 - acc: 0.9167 - mean_pred: 0.0233 - val_loss: 0.8878 - val_acc: 0.8168 - val_mean_pred: 0.0233\n",
      "Epoch 18/50\n",
      "34799/34799 [==============================] - 2s 49us/step - loss: 0.3426 - acc: 0.9200 - mean_pred: 0.0233 - val_loss: 1.1512 - val_acc: 0.7780 - val_mean_pred: 0.0233\n",
      "Epoch 19/50\n",
      "34799/34799 [==============================] - 2s 54us/step - loss: 0.3350 - acc: 0.9213 - mean_pred: 0.0233 - val_loss: 0.9400 - val_acc: 0.8188 - val_mean_pred: 0.0233\n",
      "Epoch 20/50\n",
      "34799/34799 [==============================] - 2s 53us/step - loss: 0.3298 - acc: 0.9226 - mean_pred: 0.0233 - val_loss: 0.9261 - val_acc: 0.8281 - val_mean_pred: 0.0233\n",
      "Epoch 21/50\n",
      "34799/34799 [==============================] - 2s 51us/step - loss: 0.3247 - acc: 0.9242 - mean_pred: 0.0233 - val_loss: 0.9176 - val_acc: 0.8197 - val_mean_pred: 0.0233\n",
      "Epoch 22/50\n",
      "34799/34799 [==============================] - 2s 46us/step - loss: 0.3173 - acc: 0.9250 - mean_pred: 0.0233 - val_loss: 0.9911 - val_acc: 0.8136 - val_mean_pred: 0.0233\n",
      "Epoch 23/50\n",
      "34799/34799 [==============================] - 2s 50us/step - loss: 0.3079 - acc: 0.9275 - mean_pred: 0.0233 - val_loss: 0.9576 - val_acc: 0.8184 - val_mean_pred: 0.0233\n",
      "Epoch 24/50\n",
      "34799/34799 [==============================] - 2s 51us/step - loss: 0.3075 - acc: 0.9274 - mean_pred: 0.0233 - val_loss: 0.8528 - val_acc: 0.8336 - val_mean_pred: 0.0233\n",
      "Epoch 25/50\n",
      "34799/34799 [==============================] - 2s 46us/step - loss: 0.3043 - acc: 0.9301 - mean_pred: 0.0233 - val_loss: 0.9375 - val_acc: 0.8132 - val_mean_pred: 0.0233\n",
      "Epoch 26/50\n",
      "34799/34799 [==============================] - 2s 48us/step - loss: 0.2981 - acc: 0.9295 - mean_pred: 0.0233 - val_loss: 0.9534 - val_acc: 0.8195 - val_mean_pred: 0.0233\n",
      "Epoch 27/50\n",
      "34799/34799 [==============================] - 2s 53us/step - loss: 0.2948 - acc: 0.9318 - mean_pred: 0.0233 - val_loss: 0.8515 - val_acc: 0.8327 - val_mean_pred: 0.0233\n",
      "Epoch 28/50\n",
      "34799/34799 [==============================] - 2s 53us/step - loss: 0.2881 - acc: 0.9330 - mean_pred: 0.0233 - val_loss: 0.8450 - val_acc: 0.8435 - val_mean_pred: 0.0233\n",
      "Epoch 29/50\n",
      "34799/34799 [==============================] - 2s 47us/step - loss: 0.2879 - acc: 0.9326 - mean_pred: 0.0233 - val_loss: 0.9043 - val_acc: 0.8132 - val_mean_pred: 0.0233\n",
      "Epoch 30/50\n",
      "34799/34799 [==============================] - 2s 50us/step - loss: 0.2804 - acc: 0.9332 - mean_pred: 0.0233 - val_loss: 0.8943 - val_acc: 0.8224 - val_mean_pred: 0.0233\n",
      "Epoch 31/50\n",
      "34799/34799 [==============================] - 2s 49us/step - loss: 0.2720 - acc: 0.9356 - mean_pred: 0.0233 - val_loss: 0.9374 - val_acc: 0.8324 - val_mean_pred: 0.0233\n",
      "Epoch 32/50\n",
      "34799/34799 [==============================] - 2s 44us/step - loss: 0.2686 - acc: 0.9372 - mean_pred: 0.0233 - val_loss: 0.9434 - val_acc: 0.8259 - val_mean_pred: 0.0233\n",
      "Epoch 33/50\n",
      "34799/34799 [==============================] - 2s 45us/step - loss: 0.2693 - acc: 0.9375 - mean_pred: 0.0233 - val_loss: 0.9061 - val_acc: 0.8327 - val_mean_pred: 0.0233\n",
      "Epoch 34/50\n",
      "34799/34799 [==============================] - 2s 45us/step - loss: 0.2679 - acc: 0.9384 - mean_pred: 0.0233 - val_loss: 0.9276 - val_acc: 0.8215 - val_mean_pred: 0.0233\n",
      "Epoch 35/50\n",
      "34799/34799 [==============================] - 2s 43us/step - loss: 0.2600 - acc: 0.9399 - mean_pred: 0.0233 - val_loss: 1.0601 - val_acc: 0.8098 - val_mean_pred: 0.0233\n",
      "Epoch 36/50\n",
      "34799/34799 [==============================] - 1s 42us/step - loss: 0.2625 - acc: 0.9395 - mean_pred: 0.0233 - val_loss: 0.8931 - val_acc: 0.8395 - val_mean_pred: 0.0233\n",
      "Epoch 37/50\n",
      "34799/34799 [==============================] - 1s 42us/step - loss: 0.2560 - acc: 0.9405 - mean_pred: 0.0233 - val_loss: 1.0595 - val_acc: 0.8181 - val_mean_pred: 0.0233\n",
      "Epoch 38/50\n",
      "34799/34799 [==============================] - 2s 47us/step - loss: 0.2529 - acc: 0.9416 - mean_pred: 0.0233 - val_loss: 0.9647 - val_acc: 0.8249 - val_mean_pred: 0.0233\n",
      "Epoch 39/50\n",
      "34799/34799 [==============================] - 2s 47us/step - loss: 0.2547 - acc: 0.9413 - mean_pred: 0.0233 - val_loss: 0.9670 - val_acc: 0.8184 - val_mean_pred: 0.0233\n",
      "Epoch 40/50\n",
      "34799/34799 [==============================] - 2s 48us/step - loss: 0.2451 - acc: 0.9438 - mean_pred: 0.0233 - val_loss: 0.9640 - val_acc: 0.8238 - val_mean_pred: 0.0233\n",
      "Epoch 41/50\n",
      "34799/34799 [==============================] - 1s 42us/step - loss: 0.2450 - acc: 0.9433 - mean_pred: 0.0233 - val_loss: 0.8380 - val_acc: 0.8449 - val_mean_pred: 0.0233\n",
      "Epoch 42/50\n",
      "34799/34799 [==============================] - 2s 44us/step - loss: 0.2421 - acc: 0.9436 - mean_pred: 0.0233 - val_loss: 0.9800 - val_acc: 0.8120 - val_mean_pred: 0.0233\n",
      "Epoch 43/50\n",
      "34799/34799 [==============================] - 1s 42us/step - loss: 0.2390 - acc: 0.9439 - mean_pred: 0.0233 - val_loss: 0.9231 - val_acc: 0.8363 - val_mean_pred: 0.0233\n",
      "Epoch 44/50\n",
      "34799/34799 [==============================] - 1s 42us/step - loss: 0.2387 - acc: 0.9450 - mean_pred: 0.0233 - val_loss: 0.9144 - val_acc: 0.8283 - val_mean_pred: 0.0233\n",
      "Epoch 45/50\n",
      "34799/34799 [==============================] - 1s 43us/step - loss: 0.2367 - acc: 0.9445 - mean_pred: 0.0233 - val_loss: 0.8900 - val_acc: 0.8463 - val_mean_pred: 0.0233\n"
     ]
    },
    {
     "name": "stdout",
     "output_type": "stream",
     "text": [
      "Epoch 46/50\n",
      "34799/34799 [==============================] - 2s 45us/step - loss: 0.2285 - acc: 0.9474 - mean_pred: 0.0233 - val_loss: 1.0630 - val_acc: 0.8209 - val_mean_pred: 0.0233\n",
      "Epoch 47/50\n",
      "34799/34799 [==============================] - 2s 43us/step - loss: 0.2314 - acc: 0.9455 - mean_pred: 0.0233 - val_loss: 1.0589 - val_acc: 0.8224 - val_mean_pred: 0.0233\n",
      "Epoch 48/50\n",
      "34799/34799 [==============================] - 2s 53us/step - loss: 0.2295 - acc: 0.9468 - mean_pred: 0.0233 - val_loss: 0.8787 - val_acc: 0.8422 - val_mean_pred: 0.0233\n",
      "Epoch 49/50\n",
      "34799/34799 [==============================] - 2s 53us/step - loss: 0.2254 - acc: 0.9474 - mean_pred: 0.0233 - val_loss: 1.0484 - val_acc: 0.8170 - val_mean_pred: 0.0233\n",
      "Epoch 50/50\n",
      "34799/34799 [==============================] - 2s 56us/step - loss: 0.2239 - acc: 0.9498 - mean_pred: 0.0233 - val_loss: 0.9277 - val_acc: 0.8347 - val_mean_pred: 0.0233\n"
     ]
    },
    {
     "data": {
      "text/plain": [
       "<keras.callbacks.History at 0x7f9ba0064c50>"
      ]
     },
     "execution_count": 6,
     "metadata": {},
     "output_type": "execute_result"
    }
   ],
   "source": [
    "import keras\n",
    "from sklearn.utils import shuffle\n",
    "\n",
    "EPOCHS = 50\n",
    "BATCH_SIZE = 100\n",
    "print(np.shape(X_train))\n",
    "LeNet.fit(X_train,y_train_oneHot,\n",
    "          epochs=50,\n",
    "          batch_size=100,\n",
    "          shuffle=True,\n",
    "          validation_data=(X_valid,y_val_oneHot),\n",
    "         callbacks=[tensorboard])\n",
    "\n",
    "\n",
    "\n",
    "# saver.save(sess, 'lenet')\n",
    "# print(\"Model saved\")\n",
    "# LeNet.fit()\n",
    "### Train your model here.\n",
    "### Calculate and report the accuracy on the training and validation set.\n",
    "### Once a final model architecture is selected, \n",
    "### the accuracy on the test set should be calculated and reported as well.\n",
    "### Feel free to use as many code cells as needed."
   ]
  },
  {
   "cell_type": "markdown",
   "metadata": {},
   "source": [
    "---\n",
    "\n",
    "## Step 3: Test a Model on New Images\n",
    "\n",
    "To give yourself more insight into how your model is working, download at least five pictures of German traffic signs from the web and use your model to predict the traffic sign type.\n",
    "\n",
    "You may find `signnames.csv` useful as it contains mappings from the class id (integer) to the actual sign name."
   ]
  },
  {
   "cell_type": "markdown",
   "metadata": {},
   "source": [
    "### Load and Output the Images"
   ]
  },
  {
   "cell_type": "code",
   "execution_count": null,
   "metadata": {},
   "outputs": [],
   "source": [
    "### Load the images and plot them here.\n",
    "### Feel free to use as many code cells as needed."
   ]
  },
  {
   "cell_type": "markdown",
   "metadata": {},
   "source": [
    "### Predict the Sign Type for Each Image"
   ]
  },
  {
   "cell_type": "code",
   "execution_count": null,
   "metadata": {},
   "outputs": [],
   "source": [
    "### Run the predictions here and use the model to output the prediction for each image.\n",
    "### Make sure to pre-process the images with the same pre-processing pipeline used earlier.\n",
    "### Feel free to use as many code cells as needed."
   ]
  },
  {
   "cell_type": "markdown",
   "metadata": {},
   "source": [
    "### Analyze Performance"
   ]
  },
  {
   "cell_type": "code",
   "execution_count": null,
   "metadata": {},
   "outputs": [],
   "source": [
    "### Calculate the accuracy for these 5 new images. \n",
    "### For example, if the model predicted 1 out of 5 signs correctly, it's 20% accurate on these new images."
   ]
  },
  {
   "cell_type": "markdown",
   "metadata": {},
   "source": [
    "### Output Top 5 Softmax Probabilities For Each Image Found on the Web"
   ]
  },
  {
   "cell_type": "markdown",
   "metadata": {},
   "source": [
    "For each of the new images, print out the model's softmax probabilities to show the **certainty** of the model's predictions (limit the output to the top 5 probabilities for each image). [`tf.nn.top_k`](https://www.tensorflow.org/versions/r0.12/api_docs/python/nn.html#top_k) could prove helpful here. \n",
    "\n",
    "The example below demonstrates how tf.nn.top_k can be used to find the top k predictions for each image.\n",
    "\n",
    "`tf.nn.top_k` will return the values and indices (class ids) of the top k predictions. So if k=3, for each sign, it'll return the 3 largest probabilities (out of a possible 43) and the correspoding class ids.\n",
    "\n",
    "Take this numpy array as an example. The values in the array represent predictions. The array contains softmax probabilities for five candidate images with six possible classes. `tf.nn.top_k` is used to choose the three classes with the highest probability:\n",
    "\n",
    "```\n",
    "# (5, 6) array\n",
    "a = np.array([[ 0.24879643,  0.07032244,  0.12641572,  0.34763842,  0.07893497,\n",
    "         0.12789202],\n",
    "       [ 0.28086119,  0.27569815,  0.08594638,  0.0178669 ,  0.18063401,\n",
    "         0.15899337],\n",
    "       [ 0.26076848,  0.23664738,  0.08020603,  0.07001922,  0.1134371 ,\n",
    "         0.23892179],\n",
    "       [ 0.11943333,  0.29198961,  0.02605103,  0.26234032,  0.1351348 ,\n",
    "         0.16505091],\n",
    "       [ 0.09561176,  0.34396535,  0.0643941 ,  0.16240774,  0.24206137,\n",
    "         0.09155967]])\n",
    "```\n",
    "\n",
    "Running it through `sess.run(tf.nn.top_k(tf.constant(a), k=3))` produces:\n",
    "\n",
    "```\n",
    "TopKV2(values=array([[ 0.34763842,  0.24879643,  0.12789202],\n",
    "       [ 0.28086119,  0.27569815,  0.18063401],\n",
    "       [ 0.26076848,  0.23892179,  0.23664738],\n",
    "       [ 0.29198961,  0.26234032,  0.16505091],\n",
    "       [ 0.34396535,  0.24206137,  0.16240774]]), indices=array([[3, 0, 5],\n",
    "       [0, 1, 4],\n",
    "       [0, 5, 1],\n",
    "       [1, 3, 5],\n",
    "       [1, 4, 3]], dtype=int32))\n",
    "```\n",
    "\n",
    "Looking just at the first row we get `[ 0.34763842,  0.24879643,  0.12789202]`, you can confirm these are the 3 largest probabilities in `a`. You'll also notice `[3, 0, 5]` are the corresponding indices."
   ]
  },
  {
   "cell_type": "code",
   "execution_count": null,
   "metadata": {},
   "outputs": [],
   "source": [
    "### Print out the top five softmax probabilities for the predictions on the German traffic sign images found on the web. \n",
    "### Feel free to use as many code cells as needed."
   ]
  },
  {
   "cell_type": "markdown",
   "metadata": {},
   "source": [
    "### Project Writeup\n",
    "\n",
    "Once you have completed the code implementation, document your results in a project writeup using this [template](https://github.com/udacity/CarND-Traffic-Sign-Classifier-Project/blob/master/writeup_template.md) as a guide. The writeup can be in a markdown or pdf file. "
   ]
  },
  {
   "cell_type": "markdown",
   "metadata": {},
   "source": [
    "> **Note**: Once you have completed all of the code implementations and successfully answered each question above, you may finalize your work by exporting the iPython Notebook as an HTML document. You can do this by using the menu above and navigating to  \\n\",\n",
    "    \"**File -> Download as -> HTML (.html)**. Include the finished document along with this notebook as your submission."
   ]
  },
  {
   "cell_type": "markdown",
   "metadata": {},
   "source": [
    "---\n",
    "\n",
    "## Step 4 (Optional): Visualize the Neural Network's State with Test Images\n",
    "\n",
    " This Section is not required to complete but acts as an additional excersise for understaning the output of a neural network's weights. While neural networks can be a great learning device they are often referred to as a black box. We can understand what the weights of a neural network look like better by plotting their feature maps. After successfully training your neural network you can see what it's feature maps look like by plotting the output of the network's weight layers in response to a test stimuli image. From these plotted feature maps, it's possible to see what characteristics of an image the network finds interesting. For a sign, maybe the inner network feature maps react with high activation to the sign's boundary outline or to the contrast in the sign's painted symbol.\n",
    "\n",
    " Provided for you below is the function code that allows you to get the visualization output of any tensorflow weight layer you want. The inputs to the function should be a stimuli image, one used during training or a new one you provided, and then the tensorflow variable name that represents the layer's state during the training process, for instance if you wanted to see what the [LeNet lab's](https://classroom.udacity.com/nanodegrees/nd013/parts/fbf77062-5703-404e-b60c-95b78b2f3f9e/modules/6df7ae49-c61c-4bb2-a23e-6527e69209ec/lessons/601ae704-1035-4287-8b11-e2c2716217ad/concepts/d4aca031-508f-4e0b-b493-e7b706120f81) feature maps looked like for it's second convolutional layer you could enter conv2 as the tf_activation variable.\n",
    "\n",
    "For an example of what feature map outputs look like, check out NVIDIA's results in their paper [End-to-End Deep Learning for Self-Driving Cars](https://devblogs.nvidia.com/parallelforall/deep-learning-self-driving-cars/) in the section Visualization of internal CNN State. NVIDIA was able to show that their network's inner weights had high activations to road boundary lines by comparing feature maps from an image with a clear path to one without. Try experimenting with a similar test to show that your trained network's weights are looking for interesting features, whether it's looking at differences in feature maps from images with or without a sign, or even what feature maps look like in a trained network vs a completely untrained one on the same sign image.\n",
    "\n",
    "<figure>\n",
    " <img src=\"visualize_cnn.png\" width=\"380\" alt=\"Combined Image\" />\n",
    " <figcaption>\n",
    " <p></p> \n",
    " <p style=\"text-align: center;\"> Your output should look something like this (above)</p> \n",
    " </figcaption>\n",
    "</figure>\n",
    " <p></p> \n"
   ]
  },
  {
   "cell_type": "code",
   "execution_count": null,
   "metadata": {},
   "outputs": [],
   "source": [
    "### Visualize your network's feature maps here.\n",
    "### Feel free to use as many code cells as needed.\n",
    "\n",
    "# image_input: the test image being fed into the network to produce the feature maps\n",
    "# tf_activation: should be a tf variable name used during your training procedure that represents the calculated state of a specific weight layer\n",
    "# activation_min/max: can be used to view the activation contrast in more detail, by default matplot sets min and max to the actual min and max values of the output\n",
    "# plt_num: used to plot out multiple different weight feature map sets on the same block, just extend the plt number for each new feature map entry\n",
    "\n",
    "def outputFeatureMap(image_input, tf_activation, activation_min=-1, activation_max=-1 ,plt_num=1):\n",
    "    # Here make sure to preprocess your image_input in a way your network expects\n",
    "    # with size, normalization, ect if needed\n",
    "    # image_input =\n",
    "    # Note: x should be the same name as your network's tensorflow data placeholder variable\n",
    "    # If you get an error tf_activation is not defined it may be having trouble accessing the variable from inside a function\n",
    "    activation = tf_activation.eval(session=sess,feed_dict={x : image_input})\n",
    "    featuremaps = activation.shape[3]\n",
    "    plt.figure(plt_num, figsize=(15,15))\n",
    "    for featuremap in range(featuremaps):\n",
    "        plt.subplot(6,8, featuremap+1) # sets the number of feature maps to show on each row and column\n",
    "        plt.title('FeatureMap ' + str(featuremap)) # displays the feature map number\n",
    "        if activation_min != -1 & activation_max != -1:\n",
    "            plt.imshow(activation[0,:,:, featuremap], interpolation=\"nearest\", vmin =activation_min, vmax=activation_max, cmap=\"gray\")\n",
    "        elif activation_max != -1:\n",
    "            plt.imshow(activation[0,:,:, featuremap], interpolation=\"nearest\", vmax=activation_max, cmap=\"gray\")\n",
    "        elif activation_min !=-1:\n",
    "            plt.imshow(activation[0,:,:, featuremap], interpolation=\"nearest\", vmin=activation_min, cmap=\"gray\")\n",
    "        else:\n",
    "            plt.imshow(activation[0,:,:, featuremap], interpolation=\"nearest\", cmap=\"gray\")"
   ]
  }
 ],
 "metadata": {
  "anaconda-cloud": {},
  "kernelspec": {
   "display_name": "Python 3",
   "language": "python",
   "name": "python3"
  },
  "language_info": {
   "codemirror_mode": {
    "name": "ipython",
    "version": 3
   },
   "file_extension": ".py",
   "mimetype": "text/x-python",
   "name": "python",
   "nbconvert_exporter": "python",
   "pygments_lexer": "ipython3",
   "version": "3.5.2"
  }
 },
 "nbformat": 4,
 "nbformat_minor": 1
}
