{
 "cells": [
  {
   "cell_type": "markdown",
   "metadata": {},
   "source": [
    "---\n",
    "## Step 0: Load The Data"
   ]
  },
  {
   "cell_type": "code",
   "execution_count": 1,
   "metadata": {},
   "outputs": [],
   "source": [
    "# Load pickled data\n",
    "import pickle\n",
    "import os\n",
    "import numpy as np\n",
    "\n",
    "training_file = os.path.join(os.getcwd(),'trainingData/train.p')\n",
    "validation_file = os.path.join(os.getcwd(),'trainingData/valid.p')\n",
    "testing_file = os.path.join(os.getcwd(),'trainingData/test.p')\n",
    "\n",
    "with open(training_file, mode='rb') as f:\n",
    "    train = pickle.load(f)\n",
    "with open(validation_file, mode='rb') as f:\n",
    "    valid = pickle.load(f)\n",
    "with open(testing_file, mode='rb') as f:\n",
    "    test = pickle.load(f)\n",
    "    \n",
    "X_train, y_train = np.array(train['features']), np.array(train['labels'])\n",
    "X_valid, y_valid = np.array(valid['features']), np.array(valid['labels'])\n",
    "X_test, y_test = np.array(test['features']), np.array(test['labels'])"
   ]
  },
  {
   "cell_type": "markdown",
   "metadata": {},
   "source": [
    "---\n",
    "\n",
    "## Step 1: Dataset Summary & Exploration\n",
    "\n",
    "The pickled data is a dictionary with 4 key/value pairs:\n",
    "\n",
    "- `'features'` is a 4D array containing raw pixel data of the traffic sign images, (num examples, width, height, channels).\n",
    "- `'labels'` is a 1D array containing the label/class id of the traffic sign. The file `signnames.csv` contains id -> name mappings for each id.\n",
    "- `'sizes'` is a list containing tuples, (width, height) representing the original width and height the image.\n",
    "- `'coords'` is a list containing tuples, (x1, y1, x2, y2) representing coordinates of a bounding box around the sign in the image. **THESE COORDINATES ASSUME THE ORIGINAL IMAGE. THE PICKLED DATA CONTAINS RESIZED VERSIONS (32 by 32) OF THESE IMAGES**\n",
    "\n",
    "Complete the basic data summary below. Use python, numpy and/or pandas methods to calculate the data summary rather than hard coding the results. For example, the [pandas shape method](http://pandas.pydata.org/pandas-docs/stable/generated/pandas.DataFrame.shape.html) might be useful for calculating some of the summary results. "
   ]
  },
  {
   "cell_type": "markdown",
   "metadata": {},
   "source": [
    "### Provide a Basic Summary of the Data Set Using Python, Numpy and/or Pandas"
   ]
  },
  {
   "cell_type": "code",
   "execution_count": 2,
   "metadata": {},
   "outputs": [
    {
     "name": "stdout",
     "output_type": "stream",
     "text": [
      "Number of training examples = 34799\n",
      "Number of Validation examples = 4410\n",
      "Number of testing examples = 12630\n",
      "Image data shape = (34799, 32, 32, 3)\n",
      "Number of classes = 42\n"
     ]
    }
   ],
   "source": [
    "import numpy as np\n",
    "### Replace each question mark with the appropriate value. \n",
    "### Use python, pandas or numpy methods rather than hard coding the results\n",
    "\n",
    "n_train = len(X_train)\n",
    "print(\"Number of training examples =\", n_train)\n",
    "\n",
    "n_validation = len(X_valid)\n",
    "print(\"Number of Validation examples =\", n_validation)\n",
    "\n",
    "n_test = len(X_test)\n",
    "print(\"Number of testing examples =\", n_test)\n",
    "\n",
    "image_shape = np.shape(X_train)\n",
    "print(\"Image data shape =\", image_shape)\n",
    "\n",
    "n_classes = np.ptp(y_train)\n",
    "print(\"Number of classes =\", n_classes)\n",
    "\n"
   ]
  },
  {
   "cell_type": "markdown",
   "metadata": {},
   "source": [
    "### Include an exploratory visualization of the dataset"
   ]
  },
  {
   "cell_type": "markdown",
   "metadata": {},
   "source": [
    "Visualize the German Traffic Signs Dataset using the pickled file(s). This is open ended, suggestions include: plotting traffic sign images, plotting the count of each sign, etc. \n",
    "\n",
    "The [Matplotlib](http://matplotlib.org/) [examples](http://matplotlib.org/examples/index.html) and [gallery](http://matplotlib.org/gallery.html) pages are a great resource for doing visualizations in Python.\n",
    "\n",
    "**NOTE:** It's recommended you start with something simple first. If you wish to do more, come back to it after you've completed the rest of the sections. It can be interesting to look at the distribution of classes in the training, validation and test set. Is the distribution the same? Are there more examples of some classes than others?"
   ]
  },
  {
   "cell_type": "code",
   "execution_count": 3,
   "metadata": {},
   "outputs": [
    {
     "name": "stdout",
     "output_type": "stream",
     "text": [
      "seed:  16750\n",
      "\tClass  8\n"
     ]
    },
    {
     "data": {
      "image/png": "[encoded data removed]",
      "text/plain": [
       "<matplotlib.figure.Figure at 0x7fd4d474ce48>"
      ]
     },
     "metadata": {},
     "output_type": "display_data"
    },
    {
     "data": {
      "text/plain": [
       "16750"
      ]
     },
     "execution_count": 3,
     "metadata": {},
     "output_type": "execute_result"
    }
   ],
   "source": [
    "### Data exploration visualization code goes here.\n",
    "\n",
    "# Showing Random example and label\n",
    "import matplotlib.pyplot as plt\n",
    "import random\n",
    "# Visualizations will be shown in the notebook.\n",
    "def showRand(index = random.randint(0, n_train)):\n",
    "    %matplotlib inline\n",
    "\n",
    "    print(\"seed: \", index)\n",
    "    image = np.array(X_train)[index]\n",
    "\n",
    "    plt.figure(figsize=(1,1))\n",
    "    plt.imshow(image)\n",
    "    print(\"\\tClass \",y_train[index])\n",
    "    \n",
    "    plt.show()\n",
    "    return index\n",
    "\n",
    "showRand()"
   ]
  },
  {
   "cell_type": "markdown",
   "metadata": {},
   "source": [
    "----\n",
    "\n",
    "## Step 2: Design and Test a Model Architecture\n",
    "\n",
    "Design and implement a deep learning model that learns to recognize traffic signs. Train and test your model on the [German Traffic Sign Dataset](http://benchmark.ini.rub.de/?section=gtsrb&subsection=dataset).\n",
    "\n",
    "The LeNet-5 implementation shown in the [classroom](https://classroom.udacity.com/nanodegrees/nd013/parts/fbf77062-5703-404e-b60c-95b78b2f3f9e/modules/6df7ae49-c61c-4bb2-a23e-6527e69209ec/lessons/601ae704-1035-4287-8b11-e2c2716217ad/concepts/d4aca031-508f-4e0b-b493-e7b706120f81) at the end of the CNN lesson is a solid starting point. You'll have to change the number of classes and possibly the preprocessing, but aside from that it's plug and play! \n",
    "\n",
    "With the LeNet-5 solution from the lecture, you should expect a validation set accuracy of about 0.89. To meet specifications, the validation set accuracy will need to be at least 0.93. It is possible to get an even higher accuracy, but 0.93 is the minimum for a successful project submission. \n",
    "\n",
    "There are various aspects to consider when thinking about this problem:\n",
    "\n",
    "- Neural network architecture (is the network over or underfitting?)\n",
    "- Play around preprocessing techniques (normalization, rgb to grayscale, etc)\n",
    "- Number of examples per label (some have more than others).\n",
    "- Generate fake data.\n",
    "\n",
    "Here is an example of a [published baseline model on this problem](http://yann.lecun.com/exdb/publis/pdf/sermanet-ijcnn-11.pdf). It's not required to be familiar with the approach used in the paper but, it's good practice to try to read papers like these."
   ]
  },
  {
   "cell_type": "markdown",
   "metadata": {},
   "source": [
    "### Pre-process the Data Set (normalization, grayscale, etc.)"
   ]
  },
  {
   "cell_type": "markdown",
   "metadata": {},
   "source": [
    "Minimally, the image data should be normalized so that the data has mean zero and equal variance. For image data, `(pixel - 128)/ 128` is a quick way to approximately normalize the data and can be used in this project. \n",
    "\n",
    "Other pre-processing steps are optional. You can try different techniques to see if it improves performance. \n",
    "\n",
    "Use the code cell (or multiple code cells, if necessary) to implement the first step of your project."
   ]
  },
  {
   "cell_type": "code",
   "execution_count": 4,
   "metadata": {},
   "outputs": [],
   "source": [
    "from sklearn.preprocessing import LabelBinarizer\n",
    "enc = LabelBinarizer()\n",
    "y_train_oneHot = enc.fit_transform(y_train)\n",
    "y_val_oneHot = enc.fit_transform(y_valid)\n",
    "y_test_oneHot = enc.fit_transform(y_test)"
   ]
  },
  {
   "cell_type": "markdown",
   "metadata": {},
   "source": [
    "### Model Architecture"
   ]
  },
  {
   "cell_type": "code",
   "execution_count": 5,
   "metadata": {},
   "outputs": [
    {
     "name": "stderr",
     "output_type": "stream",
     "text": [
      "Using TensorFlow backend.\n"
     ]
    }
   ],
   "source": [
    "import tensorflow as tf\n",
    "from keras.models import Model\n",
    "from keras.layers import Input, Dense, Lambda, BatchNormalization, Softmax, Conv2D\n",
    "import keras\n",
    "import keras.backend as K\n",
    "\n",
    "inputs = Input(shape=(32, 32, 3))\n",
    "\n",
    "prep = Lambda(lambda x: tf.image.rgb_to_grayscale(x))(inputs)\n",
    "prep_whitening = Lambda(lambda x: (x - 128) / 255)(prep)\n",
    "prep_batchNorm = BatchNormalization()(prep)\n",
    "\n",
    "# Convolutional Front End\n",
    "net = Conv2D(filters=6,\n",
    "             kernel_size=5,\n",
    "             strides=(1, 1),\n",
    "             padding='valid',\n",
    "             activation='relu',\n",
    "             )(prep_batchNorm)\n",
    "net = keras.layers.MaxPooling2D(pool_size=(2, 2),\n",
    "                                strides=None,\n",
    "                                padding='valid',\n",
    "                                data_format=None)(net)\n",
    "net = Conv2D(filters=16,\n",
    "             kernel_size=5,\n",
    "             strides=(1, 1),\n",
    "             padding='valid',\n",
    "             activation='relu',\n",
    "             )(net)\n",
    "net = keras.layers.MaxPooling2D(pool_size=(2, 2),\n",
    "                                strides=None,\n",
    "                                padding='valid',\n",
    "                                data_format=None)(net)\n",
    "net = Conv2D(filters=400,\n",
    "             kernel_size=5,\n",
    "             strides=(1, 1),\n",
    "             padding='valid',\n",
    "             activation='relu',\n",
    "             )(net)\n",
    "# Fully Connected Back End\n",
    "net = keras.layers.Flatten()(net)\n",
    "net = keras.layers.GaussianDropout(0.5)(net)\n",
    "net = Dense(43)(net)\n",
    "net = Softmax()(net)\n",
    "\n",
    "LeNet = Model(inputs=inputs, outputs=net)\n",
    "layerProbe = Model(inputs=inputs, outputs=prep_whitening)\n",
    "\n",
    "\n",
    "def mean_pred(y_true, y_pred):\n",
    "    return K.mean(y_pred)\n",
    "\n",
    "\n",
    "LeNet.compile(optimizer='rmsprop',\n",
    "              loss='categorical_crossentropy',\n",
    "              metrics=['accuracy', mean_pred])\n",
    "\n",
    "tensorboard = keras.callbacks.TensorBoard(log_dir='/tmp/LeNet',\n",
    "                 histogram_freq=1, \n",
    "                 write_graph=True, \n",
    "                 write_images=False)\n"
   ]
  },
  {
   "cell_type": "markdown",
   "metadata": {},
   "source": [
    "### Train, Validate and Test the Model"
   ]
  },
  {
   "cell_type": "markdown",
   "metadata": {},
   "source": [
    "A validation set can be used to assess how well the model is performing. A low accuracy on the training and validation\n",
    "sets imply underfitting. A high accuracy on the training set but low accuracy on the validation set implies overfitting."
   ]
  },
  {
   "cell_type": "code",
   "execution_count": 6,
   "metadata": {},
   "outputs": [
    {
     "name": "stdout",
     "output_type": "stream",
     "text": [
      "(34799, 32, 32, 3)\n",
      "Train on 34799 samples, validate on 4410 samples\n",
      "Epoch 1/50\n",
      "34799/34799 [==============================] - 4s 108us/step - loss: 1.5035 - acc: 0.5899 - mean_pred: 0.0233 - val_loss: 0.6364 - val_acc: 0.8308 - val_mean_pred: 0.0233\n",
      "Epoch 2/50\n",
      "34799/34799 [==============================] - 3s 96us/step - loss: 0.3742 - acc: 0.8937 - mean_pred: 0.0233 - val_loss: 0.4145 - val_acc: 0.8853 - val_mean_pred: 0.0233\n",
      "Epoch 3/50\n",
      "34799/34799 [==============================] - 3s 90us/step - loss: 0.1962 - acc: 0.9457 - mean_pred: 0.0233 - val_loss: 0.3640 - val_acc: 0.9077 - val_mean_pred: 0.0233\n",
      "Epoch 4/50\n",
      "34799/34799 [==============================] - 3s 96us/step - loss: 0.1307 - acc: 0.9637 - mean_pred: 0.0233 - val_loss: 0.2945 - val_acc: 0.9313 - val_mean_pred: 0.0233\n",
      "Epoch 5/50\n",
      "34799/34799 [==============================] - 4s 112us/step - loss: 0.1018 - acc: 0.9730 - mean_pred: 0.0233 - val_loss: 0.2912 - val_acc: 0.9361 - val_mean_pred: 0.0233\n",
      "Epoch 6/50\n",
      "34799/34799 [==============================] - 4s 103us/step - loss: 0.0792 - acc: 0.9775 - mean_pred: 0.0233 - val_loss: 0.3509 - val_acc: 0.9274 - val_mean_pred: 0.0233\n",
      "Epoch 7/50\n",
      "34799/34799 [==============================] - 4s 106us/step - loss: 0.0671 - acc: 0.9811 - mean_pred: 0.0233 - val_loss: 0.3483 - val_acc: 0.9331 - val_mean_pred: 0.0233\n",
      "Epoch 8/50\n",
      "34799/34799 [==============================] - 3s 92us/step - loss: 0.0577 - acc: 0.9842 - mean_pred: 0.0233 - val_loss: 0.3269 - val_acc: 0.9281 - val_mean_pred: 0.0233\n",
      "Epoch 9/50\n",
      "34799/34799 [==============================] - 3s 89us/step - loss: 0.0542 - acc: 0.9851 - mean_pred: 0.0233 - val_loss: 0.2834 - val_acc: 0.9417 - val_mean_pred: 0.0233\n",
      "Epoch 10/50\n",
      "34799/34799 [==============================] - 3s 86us/step - loss: 0.0473 - acc: 0.9874 - mean_pred: 0.0233 - val_loss: 0.3265 - val_acc: 0.9367 - val_mean_pred: 0.0233\n",
      "Epoch 11/50\n",
      "34799/34799 [==============================] - 3s 88us/step - loss: 0.0422 - acc: 0.9884 - mean_pred: 0.0233 - val_loss: 0.2991 - val_acc: 0.9379 - val_mean_pred: 0.0233\n",
      "Epoch 12/50\n",
      "34799/34799 [==============================] - 3s 98us/step - loss: 0.0379 - acc: 0.9892 - mean_pred: 0.0233 - val_loss: 0.2808 - val_acc: 0.9492 - val_mean_pred: 0.0233\n",
      "Epoch 13/50\n",
      "34799/34799 [==============================] - 3s 97us/step - loss: 0.0338 - acc: 0.9904 - mean_pred: 0.0233 - val_loss: 0.3445 - val_acc: 0.9460 - val_mean_pred: 0.0233\n",
      "Epoch 14/50\n",
      "34799/34799 [==============================] - 3s 99us/step - loss: 0.0369 - acc: 0.9907 - mean_pred: 0.0233 - val_loss: 0.3460 - val_acc: 0.9442 - val_mean_pred: 0.0233\n",
      "Epoch 15/50\n",
      "34799/34799 [==============================] - 3s 100us/step - loss: 0.0298 - acc: 0.9910 - mean_pred: 0.0233 - val_loss: 0.3611 - val_acc: 0.9474 - val_mean_pred: 0.0233\n",
      "Epoch 16/50\n",
      "34799/34799 [==============================] - 4s 104us/step - loss: 0.0293 - acc: 0.9916 - mean_pred: 0.0233 - val_loss: 0.3469 - val_acc: 0.9454 - val_mean_pred: 0.0233\n",
      "Epoch 17/50\n",
      "34799/34799 [==============================] - 4s 108us/step - loss: 0.0281 - acc: 0.9919 - mean_pred: 0.0233 - val_loss: 0.3529 - val_acc: 0.9454 - val_mean_pred: 0.0233\n",
      "Epoch 18/50\n",
      "34799/34799 [==============================] - 4s 105us/step - loss: 0.0261 - acc: 0.9926 - mean_pred: 0.0233 - val_loss: 0.3725 - val_acc: 0.9469 - val_mean_pred: 0.0233\n",
      "Epoch 19/50\n",
      "34799/34799 [==============================] - 4s 102us/step - loss: 0.0278 - acc: 0.9934 - mean_pred: 0.0233 - val_loss: 0.3766 - val_acc: 0.9438 - val_mean_pred: 0.0233\n",
      "Epoch 20/50\n",
      "34799/34799 [==============================] - 4s 103us/step - loss: 0.0245 - acc: 0.9933 - mean_pred: 0.0233 - val_loss: 0.2884 - val_acc: 0.9526 - val_mean_pred: 0.0233\n",
      "Epoch 21/50\n",
      "34799/34799 [==============================] - 4s 102us/step - loss: 0.0214 - acc: 0.9944 - mean_pred: 0.0233 - val_loss: 0.2860 - val_acc: 0.9519 - val_mean_pred: 0.0233\n",
      "Epoch 22/50\n",
      "34799/34799 [==============================] - 3s 99us/step - loss: 0.0206 - acc: 0.9947 - mean_pred: 0.0233 - val_loss: 0.3468 - val_acc: 0.9517 - val_mean_pred: 0.0233\n",
      "Epoch 23/50\n",
      "34799/34799 [==============================] - 4s 107us/step - loss: 0.0229 - acc: 0.9945 - mean_pred: 0.0233 - val_loss: 0.3558 - val_acc: 0.9497 - val_mean_pred: 0.0233\n",
      "Epoch 24/50\n",
      "34799/34799 [==============================] - 3s 88us/step - loss: 0.0214 - acc: 0.9940 - mean_pred: 0.0233 - val_loss: 0.3907 - val_acc: 0.9488 - val_mean_pred: 0.0233\n",
      "Epoch 25/50\n",
      "34799/34799 [==============================] - 3s 88us/step - loss: 0.0182 - acc: 0.9953 - mean_pred: 0.0233 - val_loss: 0.3444 - val_acc: 0.9522 - val_mean_pred: 0.0233\n",
      "Epoch 26/50\n",
      "34799/34799 [==============================] - 3s 88us/step - loss: 0.0218 - acc: 0.9945 - mean_pred: 0.0233 - val_loss: 0.3919 - val_acc: 0.9492 - val_mean_pred: 0.0233\n",
      "Epoch 27/50\n",
      "34799/34799 [==============================] - 3s 88us/step - loss: 0.0199 - acc: 0.9949 - mean_pred: 0.0233 - val_loss: 0.3724 - val_acc: 0.9517 - val_mean_pred: 0.0233\n",
      "Epoch 28/50\n",
      "34799/34799 [==============================] - 3s 86us/step - loss: 0.0183 - acc: 0.9948 - mean_pred: 0.0233 - val_loss: 0.3966 - val_acc: 0.9492 - val_mean_pred: 0.0233\n",
      "Epoch 29/50\n",
      "34799/34799 [==============================] - 3s 87us/step - loss: 0.0184 - acc: 0.9950 - mean_pred: 0.0233 - val_loss: 0.3536 - val_acc: 0.9481 - val_mean_pred: 0.0233\n",
      "Epoch 30/50\n",
      "34799/34799 [==============================] - 3s 86us/step - loss: 0.0199 - acc: 0.9950 - mean_pred: 0.0233 - val_loss: 0.3527 - val_acc: 0.9533 - val_mean_pred: 0.0233\n",
      "Epoch 31/50\n",
      "34799/34799 [==============================] - 3s 92us/step - loss: 0.0163 - acc: 0.9958 - mean_pred: 0.0233 - val_loss: 0.3611 - val_acc: 0.9515 - val_mean_pred: 0.0233\n",
      "Epoch 32/50\n",
      "34799/34799 [==============================] - 3s 92us/step - loss: 0.0158 - acc: 0.9959 - mean_pred: 0.0233 - val_loss: 0.4015 - val_acc: 0.9485 - val_mean_pred: 0.0233\n",
      "Epoch 33/50\n",
      "34799/34799 [==============================] - 4s 108us/step - loss: 0.0171 - acc: 0.9954 - mean_pred: 0.0233 - val_loss: 0.3644 - val_acc: 0.9512 - val_mean_pred: 0.0233\n",
      "Epoch 34/50\n",
      "34799/34799 [==============================] - 4s 105us/step - loss: 0.0171 - acc: 0.9955 - mean_pred: 0.0233 - val_loss: 0.4045 - val_acc: 0.9465 - val_mean_pred: 0.0233\n",
      "Epoch 35/50\n",
      "34799/34799 [==============================] - 4s 108us/step - loss: 0.0157 - acc: 0.9958 - mean_pred: 0.0233 - val_loss: 0.4073 - val_acc: 0.9501 - val_mean_pred: 0.0233\n",
      "Epoch 36/50\n",
      "34799/34799 [==============================] - 3s 95us/step - loss: 0.0144 - acc: 0.9965 - mean_pred: 0.0233 - val_loss: 0.3799 - val_acc: 0.9531 - val_mean_pred: 0.0233\n",
      "Epoch 37/50\n",
      "34799/34799 [==============================] - 4s 102us/step - loss: 0.0161 - acc: 0.9963 - mean_pred: 0.0233 - val_loss: 0.3924 - val_acc: 0.9447 - val_mean_pred: 0.0233\n",
      "Epoch 38/50\n",
      "34799/34799 [==============================] - 3s 90us/step - loss: 0.0154 - acc: 0.9961 - mean_pred: 0.0233 - val_loss: 0.3361 - val_acc: 0.9546 - val_mean_pred: 0.0233\n",
      "Epoch 39/50\n",
      "34799/34799 [==============================] - 3s 90us/step - loss: 0.0168 - acc: 0.9959 - mean_pred: 0.0233 - val_loss: 0.3738 - val_acc: 0.9540 - val_mean_pred: 0.0233\n",
      "Epoch 40/50\n",
      "34799/34799 [==============================] - 3s 100us/step - loss: 0.0153 - acc: 0.9962 - mean_pred: 0.0233 - val_loss: 0.4257 - val_acc: 0.9492 - val_mean_pred: 0.0233\n",
      "Epoch 41/50\n",
      "34799/34799 [==============================] - 3s 99us/step - loss: 0.0172 - acc: 0.9959 - mean_pred: 0.0233 - val_loss: 0.3495 - val_acc: 0.9535 - val_mean_pred: 0.0233\n",
      "Epoch 42/50\n",
      "34799/34799 [==============================] - 3s 93us/step - loss: 0.0131 - acc: 0.9968 - mean_pred: 0.0233 - val_loss: 0.3622 - val_acc: 0.9474 - val_mean_pred: 0.0233\n",
      "Epoch 43/50\n",
      "34799/34799 [==============================] - 4s 106us/step - loss: 0.0146 - acc: 0.9964 - mean_pred: 0.0233 - val_loss: 0.3687 - val_acc: 0.9533 - val_mean_pred: 0.0233\n",
      "Epoch 44/50\n",
      "34799/34799 [==============================] - 4s 103us/step - loss: 0.0135 - acc: 0.9969 - mean_pred: 0.0233 - val_loss: 0.4942 - val_acc: 0.9415 - val_mean_pred: 0.0233\n",
      "Epoch 45/50\n"
     ]
    },
    {
     "name": "stdout",
     "output_type": "stream",
     "text": [
      "34799/34799 [==============================] - 4s 104us/step - loss: 0.0144 - acc: 0.9960 - mean_pred: 0.0233 - val_loss: 0.4540 - val_acc: 0.9476 - val_mean_pred: 0.0233\n",
      "Epoch 46/50\n",
      "34799/34799 [==============================] - 3s 97us/step - loss: 0.0145 - acc: 0.9965 - mean_pred: 0.0233 - val_loss: 0.3909 - val_acc: 0.9524 - val_mean_pred: 0.0233\n",
      "Epoch 47/50\n",
      "34799/34799 [==============================] - 3s 91us/step - loss: 0.0149 - acc: 0.9965 - mean_pred: 0.0233 - val_loss: 0.4130 - val_acc: 0.9510 - val_mean_pred: 0.0233\n",
      "Epoch 48/50\n",
      "34799/34799 [==============================] - 3s 97us/step - loss: 0.0111 - acc: 0.9969 - mean_pred: 0.0233 - val_loss: 0.3506 - val_acc: 0.9565 - val_mean_pred: 0.0233\n",
      "Epoch 49/50\n",
      "34799/34799 [==============================] - 4s 103us/step - loss: 0.0142 - acc: 0.9964 - mean_pred: 0.0233 - val_loss: 0.3681 - val_acc: 0.9517 - val_mean_pred: 0.0233\n",
      "Epoch 50/50\n",
      "34799/34799 [==============================] - 3s 90us/step - loss: 0.0133 - acc: 0.9967 - mean_pred: 0.0233 - val_loss: 0.3811 - val_acc: 0.9560 - val_mean_pred: 0.0233\n"
     ]
    },
    {
     "data": {
      "text/plain": [
       "<keras.callbacks.History at 0x7fd411303a20>"
      ]
     },
     "execution_count": 6,
     "metadata": {},
     "output_type": "execute_result"
    }
   ],
   "source": [
    "import keras\n",
    "\n",
    "EPOCHS = 50\n",
    "BATCH_SIZE = 100\n",
    "print(np.shape(X_train))\n",
    "LeNet.fit(X_train,y_train_oneHot,\n",
    "          epochs=50,\n",
    "          batch_size=100,\n",
    "          shuffle=True,\n",
    "          validation_data=(X_valid,y_val_oneHot),\n",
    "         callbacks=[tensorboard])\n",
    "\n",
    "\n",
    "\n",
    "# saver.save(sess, 'lenet')\n",
    "# print(\"Model saved\")\n",
    "# LeNet.fit()\n",
    "### Train your model here.\n",
    "### Calculate and report the accuracy on the training and validation set.\n",
    "### Once a final model architecture is selected, \n",
    "### the accuracy on the test set should be calculated and reported as well.\n",
    "### Feel free to use as many code cells as needed."
   ]
  },
  {
   "cell_type": "markdown",
   "metadata": {},
   "source": [
    "---\n",
    "\n",
    "## Step 3: Test a Model on New Images\n",
    "\n",
    "To give yourself more insight into how your model is working, download at least five pictures of German traffic signs from the web and use your model to predict the traffic sign type.\n",
    "\n",
    "You may find `signnames.csv` useful as it contains mappings from the class id (integer) to the actual sign name."
   ]
  },
  {
   "cell_type": "markdown",
   "metadata": {},
   "source": [
    "### Load and Output the Images"
   ]
  },
  {
   "cell_type": "code",
   "execution_count": null,
   "metadata": {},
   "outputs": [],
   "source": [
    "### Load the images and plot them here.\n",
    "### Feel free to use as many code cells as needed."
   ]
  },
  {
   "cell_type": "markdown",
   "metadata": {},
   "source": [
    "### Predict the Sign Type for Each Image"
   ]
  },
  {
   "cell_type": "code",
   "execution_count": null,
   "metadata": {},
   "outputs": [],
   "source": [
    "### Run the predictions here and use the model to output the prediction for each image.\n",
    "### Make sure to pre-process the images with the same pre-processing pipeline used earlier.\n",
    "### Feel free to use as many code cells as needed."
   ]
  },
  {
   "cell_type": "markdown",
   "metadata": {},
   "source": [
    "### Analyze Performance"
   ]
  },
  {
   "cell_type": "code",
   "execution_count": null,
   "metadata": {},
   "outputs": [],
   "source": [
    "### Calculate the accuracy for these 5 new images. \n",
    "### For example, if the model predicted 1 out of 5 signs correctly, it's 20% accurate on these new images."
   ]
  },
  {
   "cell_type": "markdown",
   "metadata": {},
   "source": [
    "### Output Top 5 Softmax Probabilities For Each Image Found on the Web"
   ]
  },
  {
   "cell_type": "markdown",
   "metadata": {},
   "source": [
    "For each of the new images, print out the model's softmax probabilities to show the **certainty** of the model's predictions (limit the output to the top 5 probabilities for each image). [`tf.nn.top_k`](https://www.tensorflow.org/versions/r0.12/api_docs/python/nn.html#top_k) could prove helpful here. \n",
    "\n",
    "The example below demonstrates how tf.nn.top_k can be used to find the top k predictions for each image.\n",
    "\n",
    "`tf.nn.top_k` will return the values and indices (class ids) of the top k predictions. So if k=3, for each sign, it'll return the 3 largest probabilities (out of a possible 43) and the correspoding class ids.\n",
    "\n",
    "Take this numpy array as an example. The values in the array represent predictions. The array contains softmax probabilities for five candidate images with six possible classes. `tf.nn.top_k` is used to choose the three classes with the highest probability:\n",
    "\n",
    "```\n",
    "# (5, 6) array\n",
    "a = np.array([[ 0.24879643,  0.07032244,  0.12641572,  0.34763842,  0.07893497,\n",
    "         0.12789202],\n",
    "       [ 0.28086119,  0.27569815,  0.08594638,  0.0178669 ,  0.18063401,\n",
    "         0.15899337],\n",
    "       [ 0.26076848,  0.23664738,  0.08020603,  0.07001922,  0.1134371 ,\n",
    "         0.23892179],\n",
    "       [ 0.11943333,  0.29198961,  0.02605103,  0.26234032,  0.1351348 ,\n",
    "         0.16505091],\n",
    "       [ 0.09561176,  0.34396535,  0.0643941 ,  0.16240774,  0.24206137,\n",
    "         0.09155967]])\n",
    "```\n",
    "\n",
    "Running it through `sess.run(tf.nn.top_k(tf.constant(a), k=3))` produces:\n",
    "\n",
    "```\n",
    "TopKV2(values=array([[ 0.34763842,  0.24879643,  0.12789202],\n",
    "       [ 0.28086119,  0.27569815,  0.18063401],\n",
    "       [ 0.26076848,  0.23892179,  0.23664738],\n",
    "       [ 0.29198961,  0.26234032,  0.16505091],\n",
    "       [ 0.34396535,  0.24206137,  0.16240774]]), indices=array([[3, 0, 5],\n",
    "       [0, 1, 4],\n",
    "       [0, 5, 1],\n",
    "       [1, 3, 5],\n",
    "       [1, 4, 3]], dtype=int32))\n",
    "```\n",
    "\n",
    "Looking just at the first row we get `[ 0.34763842,  0.24879643,  0.12789202]`, you can confirm these are the 3 largest probabilities in `a`. You'll also notice `[3, 0, 5]` are the corresponding indices."
   ]
  },
  {
   "cell_type": "code",
   "execution_count": null,
   "metadata": {},
   "outputs": [],
   "source": [
    "### Print out the top five softmax probabilities for the predictions on the German traffic sign images found on the web. \n",
    "### Feel free to use as many code cells as needed."
   ]
  },
  {
   "cell_type": "markdown",
   "metadata": {},
   "source": [
    "### Project Writeup\n",
    "\n",
    "Once you have completed the code implementation, document your results in a project writeup using this [template](https://github.com/udacity/CarND-Traffic-Sign-Classifier-Project/blob/master/writeup_template.md) as a guide. The writeup can be in a markdown or pdf file. "
   ]
  },
  {
   "cell_type": "markdown",
   "metadata": {},
   "source": [
    "> **Note**: Once you have completed all of the code implementations and successfully answered each question above, you may finalize your work by exporting the iPython Notebook as an HTML document. You can do this by using the menu above and navigating to  \\n\",\n",
    "    \"**File -> Download as -> HTML (.html)**. Include the finished document along with this notebook as your submission."
   ]
  },
  {
   "cell_type": "markdown",
   "metadata": {},
   "source": [
    "---\n",
    "\n",
    "## Step 4 (Optional): Visualize the Neural Network's State with Test Images\n",
    "\n",
    " This Section is not required to complete but acts as an additional excersise for understaning the output of a neural network's weights. While neural networks can be a great learning device they are often referred to as a black box. We can understand what the weights of a neural network look like better by plotting their feature maps. After successfully training your neural network you can see what it's feature maps look like by plotting the output of the network's weight layers in response to a test stimuli image. From these plotted feature maps, it's possible to see what characteristics of an image the network finds interesting. For a sign, maybe the inner network feature maps react with high activation to the sign's boundary outline or to the contrast in the sign's painted symbol.\n",
    "\n",
    " Provided for you below is the function code that allows you to get the visualization output of any tensorflow weight layer you want. The inputs to the function should be a stimuli image, one used during training or a new one you provided, and then the tensorflow variable name that represents the layer's state during the training process, for instance if you wanted to see what the [LeNet lab's](https://classroom.udacity.com/nanodegrees/nd013/parts/fbf77062-5703-404e-b60c-95b78b2f3f9e/modules/6df7ae49-c61c-4bb2-a23e-6527e69209ec/lessons/601ae704-1035-4287-8b11-e2c2716217ad/concepts/d4aca031-508f-4e0b-b493-e7b706120f81) feature maps looked like for it's second convolutional layer you could enter conv2 as the tf_activation variable.\n",
    "\n",
    "For an example of what feature map outputs look like, check out NVIDIA's results in their paper [End-to-End Deep Learning for Self-Driving Cars](https://devblogs.nvidia.com/parallelforall/deep-learning-self-driving-cars/) in the section Visualization of internal CNN State. NVIDIA was able to show that their network's inner weights had high activations to road boundary lines by comparing feature maps from an image with a clear path to one without. Try experimenting with a similar test to show that your trained network's weights are looking for interesting features, whether it's looking at differences in feature maps from images with or without a sign, or even what feature maps look like in a trained network vs a completely untrained one on the same sign image.\n",
    "\n",
    "<figure>\n",
    " <img src=\"visualize_cnn.png\" width=\"380\" alt=\"Combined Image\" />\n",
    " <figcaption>\n",
    " <p></p> \n",
    " <p style=\"text-align: center;\"> Your output should look something like this (above)</p> \n",
    " </figcaption>\n",
    "</figure>\n",
    " <p></p> \n"
   ]
  },
  {
   "cell_type": "code",
   "execution_count": null,
   "metadata": {},
   "outputs": [],
   "source": [
    "### Visualize your network's feature maps here.\n",
    "### Feel free to use as many code cells as needed.\n",
    "\n",
    "# image_input: the test image being fed into the network to produce the feature maps\n",
    "# tf_activation: should be a tf variable name used during your training procedure that represents the calculated state of a specific weight layer\n",
    "# activation_min/max: can be used to view the activation contrast in more detail, by default matplot sets min and max to the actual min and max values of the output\n",
    "# plt_num: used to plot out multiple different weight feature map sets on the same block, just extend the plt number for each new feature map entry\n",
    "\n",
    "def outputFeatureMap(image_input, tf_activation, activation_min=-1, activation_max=-1 ,plt_num=1):\n",
    "    # Here make sure to preprocess your image_input in a way your network expects\n",
    "    # with size, normalization, ect if needed\n",
    "    # image_input =\n",
    "    # Note: x should be the same name as your network's tensorflow data placeholder variable\n",
    "    # If you get an error tf_activation is not defined it may be having trouble accessing the variable from inside a function\n",
    "    activation = tf_activation.eval(session=sess,feed_dict={x : image_input})\n",
    "    featuremaps = activation.shape[3]\n",
    "    plt.figure(plt_num, figsize=(15,15))\n",
    "    for featuremap in range(featuremaps):\n",
    "        plt.subplot(6,8, featuremap+1) # sets the number of feature maps to show on each row and column\n",
    "        plt.title('FeatureMap ' + str(featuremap)) # displays the feature map number\n",
    "        if activation_min != -1 & activation_max != -1:\n",
    "            plt.imshow(activation[0,:,:, featuremap], interpolation=\"nearest\", vmin =activation_min, vmax=activation_max, cmap=\"gray\")\n",
    "        elif activation_max != -1:\n",
    "            plt.imshow(activation[0,:,:, featuremap], interpolation=\"nearest\", vmax=activation_max, cmap=\"gray\")\n",
    "        elif activation_min !=-1:\n",
    "            plt.imshow(activation[0,:,:, featuremap], interpolation=\"nearest\", vmin=activation_min, cmap=\"gray\")\n",
    "        else:\n",
    "            plt.imshow(activation[0,:,:, featuremap], interpolation=\"nearest\", cmap=\"gray\")"
   ]
  }
 ],
 "metadata": {
  "anaconda-cloud": {},
  "kernelspec": {
   "display_name": "Python 3",
   "language": "python",
   "name": "python3"
  },
  "language_info": {
   "codemirror_mode": {
    "name": "ipython",
    "version": 3
   },
   "file_extension": ".py",
   "mimetype": "text/x-python",
   "name": "python",
   "nbconvert_exporter": "python",
   "pygments_lexer": "ipython3",
   "version": "3.5.2"
  }
 },
 "nbformat": 4,
 "nbformat_minor": 1
}
